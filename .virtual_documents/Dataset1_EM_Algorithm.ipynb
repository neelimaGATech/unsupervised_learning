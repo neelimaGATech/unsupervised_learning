%matplotlib inline
import warnings
warnings.filterwarnings('ignore')
import matplotlib.pyplot as plt
from matplotlib.patches import PathPatch as Patch
import numpy as np
import pandas as pd
import time
import os
import seaborn as sns
from scipy import stats
import sklearn.preprocessing as skp
import sklearn.cluster as skc
from sklearn.mixture import GaussianMixture
from sklearn.cluster import KMeans
from sklearn.mixture import BayesianGaussianMixture
from sklearn.model_selection import train_test_split
from scipy import linalg
import itertools
from joblib import dump, load


from matplotlib.patches import Ellipse
color_iter = itertools.cycle(["navy", "c", "cornflowerblue", "gold", "darkorange","green","pink"])




def draw_ellipse(mean, covariance, alpha,color,ax=None):
    ax = plt.gca()
    v, w = linalg.eigh(covariance)
    v = 2.0 * np.sqrt(2.0) * np.sqrt(v)
    u = w[0] / linalg.norm(w[0])
        # as the DP will not use every component it has access to
        # unless it needs it, we shouldn't plot the redundant
        # components.
        #if not np.any(Y_ == i):
         #   continue
        #plt.scatter(X[Y_ == i, 0], X[Y_ == i, 1], 0.8, color=color)

    # Plot an ellipse to show the Gaussian component
    angle = np.arctan(u[1] / u[0])
    angle = 180.0 * angle / np.pi  # convert to degrees
    ell = Ellipse(mean, v[0], v[1], angle=180.0 + angle, color=color)
    #ell.set_clip_box(splot.bbox)
    ell.set_alpha(alpha)
    #ax.add_patch(ell)
    ax.add_artist(ell)
        



outdir = './data/processed_data'


 # read data from the file and plot 
filename = os.path.join(outdir, f"diabetes_data_train.csv" )    
X_train = pd.read_csv(filename)





###Decide n-cluster using Elbow Method
bic=[]
aic =[]
k_range = range(2,10)
for i in k_range:
    gmm_temp = GaussianMixture(n_components=i, n_init=10)
    gmm_temp.fit(X_train)
    bic.append(gmm_temp.bic(X_train))
    aic.append(gmm_temp.aic(X_train))

# save the data for future use
bic_filename = os.path.join(outdir, f"bic_scores2_10.npy" )    
np.save(bic_filename, bic)

aic_filename = os.path.join(outdir, f"aic_scores2_10.npy" )    
np.save(aic_filename, aic)


print(len(bic))


bic_filename = os.path.join(outdir, f"bic_scores2_10.npy" )    
aic_filename = os.path.join(outdir, f"bic_scores2_10.npy" )    
x_range = np.arange(2,10)
bic=np.load(bic_filename)
aic =np.load(aic_filename)


fig1 = plt.figure(figsize = (5,4))
plt.plot(x_range, bic, marker='o', label = "BIC Curve")
plt.plot(x_range, aic, marker='x', label = "AIC Curve")
plt.xlabel("Number of Clusters ")
plt.ylabel("AIC/BIC Values")
# for i, value in enumerate(wcss):
#     ax.text(i+1.05, value-0.005, round(value,1), fontsize=12, fontweight='bold')
    
#fig1.suptitle("Elbow Method");
plt.legend()
plt.show()


bgm = BayesianGaussianMixture(n_components=10, n_init=10)
bgm.fit(X_train)
np.round(bgm.weights_, 2)


gmm = GaussianMixture(n_components=7, n_init=10)


gmm.fit(X_train)


gmm_filename = os.path.join(outdir, f"gmm_diabetese_trained.joblib" ) 
dump(gmm, gmm_filename)
   
#np.save(gmm_filename, gmm,allow_pickle=True)


predictions = gmm.predict_proba(X_train)
predictions.shape


labels = gmm.predict(X_train)


#X_train['pred_prob'] = predictions
X_train['labels'] = labels


aic_filename = os.path.join(outdir, f"aic_scores2_10.npy" )   


sns.pairplot(X_train, vars=["BMI","GenHlth"], hue="labels")


sns.pairplot(X_train, vars=["Education","Income"], hue="labels")


sns.pairplot(X_train, vars=["Age","HighBP"], hue="labels")


sns.pairplot(X_train, vars=["BMI","GenHlth"], hue="labels" , kind = "scatter",)


size = 50 * predictions.max(1) ** 2  # square emphasizes differences
#plt.scatter(X_train["BMI"], X_train["GenHlth"], c=labels, cmap='viridis', s=size);
ax = plt.gca()
ax.scatter(X_train["BMI"], X_train["GenHlth"], c=labels, s=40, cmap='viridis', zorder=2)
w_factor = 0.2 / gmm.weights_.max()
for mean, covar, w, color in zip(gmm.means_, gmm.covariances_, gmm.weights_, color_iter):
    alpha =w * w_factor 
    draw_ellipse(mean, covar, w, color,ax)


gmm.converged_


X_train.columns


sns.boxplot(X_train, y='BMI',x='labels')








pip install kmodes


from kmodes.kmodes import KModes








cost = []

K = range(2,7)
for num_clusters in list(K):
    kmode = KModes(num_clusters, init="random",n_init=5,verbose=1)
    kmode.fit_predict(X_train)
    cost.append(kmode.cost_)


kmode_cost_filename = os.path.join(outdir, f"kmode_costs.npy" )    
np.save(kmode_cost_filename, cost)


kmode_cost_filename = os.path.join(outdir, f"kmode_costs.npy" )      
k_range = np.arange(2,7)
k_costs=np.load(kmode_cost_filename)

plt.plot(k_range, k_costs[:5], 'bx-')
plt.xlabel('No. of clusters')
plt.ylabel('Cost')
plt.title('Elbow Method For Optimal k')
plt.show()





from sklearn.metrics import silhouette_samples, silhouette_score

silhouette_scores = []

K = range(2,7)
for num_clusters in list(K):
    kmode = KModes(num_clusters, init="random",n_init=5,verbose=1)
    kmode_fitted=kmode.fit(X_train)
    cluster_labels = kmode_fitted.labels_
    silhouette_scores.append(silhouette_score(X_train, cluster_labels))


kmode_silhoutte_filename = os.path.join(outdir, f"kmode_silhouette.npy" )    
np.save(kmode_silhoutte_filename, silhouette_scores)


len(silhouette_scores)


kmode_sil_filename = os.path.join(outdir, f"kmode_silhouette.npy" )      
k_range = np.arange(3,7)
k_sil=np.load(kmode_sil_filename)

plt.plot(k_range, k_sil[1:5], 'bx-')
plt.xlabel('No. of clusters')
plt.ylabel('Silhouette Scores')
#plt.title('Elbow Method For Optimal k')
plt.show()





kmode = KModes(n_clusters=5, init = "random", n_init = 5, verbose=1)
clusters = kmode.fit_predict(X_train)


clusters


cluster_centers_indices = kmode.cluster_centroids_ 
n_clusters = 5




from itertools import cycle
colors = cycle('bgrcmykbgrcmykbgrcmykbgrcmyk')

for k, col in zip(range(n_clusters), colors):
    class_members = clusters 
    cluster_center = cluster_centers_indices[k]
    plt.plot(X_train.iloc[class_members, 0], X_train.iloc[class_members, 1], col + '.')
    plt.plot(cluster_center[0], cluster_center[1], 'o', markerfacecolor=col,
             markeredgecolor='k', markersize=14)
    for x in X_train.iloc[class_members]:
        plt.plot([cluster_center[0], x[0]], [cluster_center[1], x[1]], col)


X_train['kmode_labels'] = clusters


sns.pairplot(X_train, vars=["BMI","GenHlth"], hue="kmode_labels" , kind = "scatter")


sns.pairplot(X_train, vars=["PhysHlth","GenHlth"], hue="kmode_labels")



