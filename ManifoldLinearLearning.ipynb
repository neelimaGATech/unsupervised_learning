{
 "cells": [
  {
   "cell_type": "code",
   "execution_count": 50,
   "id": "84fadb71-582a-475e-9b93-f723b9db0107",
   "metadata": {},
   "outputs": [],
   "source": [
    "%matplotlib inline\n",
    "import warnings\n",
    "warnings.filterwarnings('ignore')\n",
    "import matplotlib.pyplot as plt\n",
    "from matplotlib.patches import PathPatch as Patch\n",
    "import numpy as np\n",
    "import pandas as pd\n",
    "import time\n",
    "import os\n",
    "\n",
    "from sklearn.manifold import LocallyLinearEmbedding \n",
    "from sklearn.manifold import MDS\n",
    "from sklearn.decomposition import PCA \n",
    "from sklearn.preprocessing import StandardScaler"
   ]
  },
  {
   "cell_type": "code",
   "execution_count": 2,
   "id": "6499d514-cc5f-4002-a322-7f6d6291cead",
   "metadata": {},
   "outputs": [],
   "source": [
    "outdir = './data/processed_data'"
   ]
  },
  {
   "cell_type": "code",
   "execution_count": 3,
   "id": "025323d4-9325-4e6e-879b-54ff133f967a",
   "metadata": {},
   "outputs": [],
   "source": [
    " # read data from the file and plot \n",
    "filename = os.path.join(outdir, f\"diabetes_data_train.csv\" )    \n",
    "X_diabetes_train = pd.read_csv(filename)"
   ]
  },
  {
   "cell_type": "code",
   "execution_count": 4,
   "id": "12c523e8-0013-4646-9104-ad75ed7b45f5",
   "metadata": {},
   "outputs": [
    {
     "data": {
      "text/plain": [
       "(183824, 21)"
      ]
     },
     "execution_count": 4,
     "metadata": {},
     "output_type": "execute_result"
    }
   ],
   "source": [
    "X_diabetes_train.shape"
   ]
  },
  {
   "cell_type": "markdown",
   "id": "91fe80a2-d633-4483-abb8-4566a9f17f1b",
   "metadata": {},
   "source": [
    "### Locally Linear Embedding on Diabetes dataset"
   ]
  },
  {
   "cell_type": "code",
   "execution_count": 5,
   "id": "34e4fecc-ce93-4f46-8257-b03b5376d196",
   "metadata": {},
   "outputs": [],
   "source": [
    "#embedding = MDS(n_components=2, normalized_stress='auto')\n",
    "#X_transformed = embedding.fit_transform(X_diabetes_train[:100])\n",
    "#X_transformed.shape"
   ]
  },
  {
   "cell_type": "code",
   "execution_count": 6,
   "id": "57475de5-fa1a-403b-9f97-d60c526296d2",
   "metadata": {},
   "outputs": [],
   "source": [
    "\n",
    "scaler = StandardScaler()\n",
    "X_diabetes_Scaled = scaler.fit_transform(X_diabetes_train)"
   ]
  },
  {
   "cell_type": "code",
   "execution_count": 43,
   "id": "280059c0-4eef-4e94-beb4-2708a9a90013",
   "metadata": {},
   "outputs": [
    {
     "name": "stdout",
     "output_type": "stream",
     "text": [
      "CPU times: total: 11min 55s\n",
      "Wall time: 5min 21s\n"
     ]
    },
    {
     "data": {
      "text/plain": [
       "[1.1420588220244206e-17,\n",
       " 1.0009508189174861e-16,\n",
       " 1.8723882948624832e-16,\n",
       " -4.7652034628074774e-15,\n",
       " -5.7182441553689736e-15,\n",
       " -6.67128484793047e-15,\n",
       " -7.624325540491963e-15]"
      ]
     },
     "execution_count": 43,
     "metadata": {},
     "output_type": "execute_result"
    }
   ],
   "source": [
    "%%time\n",
    "reconstruction_errs = []\n",
    "components = [2,6,8,10,12,14,16]\n",
    "\n",
    "for component in components:\n",
    "    temp_lle = LocallyLinearEmbedding(n_components=component, n_neighbors=5)\n",
    "    X_diabetese_fitted = temp_lle.fit(X_diabetes_Scaled[:10000]) \n",
    "    reconstruction_errs.append(X_diabetese_fitted.reconstruction_error_)\n",
    "\n",
    "reconstruction_errs"
   ]
  },
  {
   "cell_type": "code",
   "execution_count": 44,
   "id": "23a80634-7ed2-4850-9b65-3ee7822d8ce8",
   "metadata": {},
   "outputs": [
    {
     "data": {
      "image/png": "[encoded data removed]",
      "text/plain": [
       "<Figure size 640x480 with 1 Axes>"
      ]
     },
     "metadata": {},
     "output_type": "display_data"
    }
   ],
   "source": [
    "\n",
    "my_xticks = components\n",
    "plt.xticks(components, my_xticks)\n",
    "plt.plot(components, reconstruction_errs)\n",
    "plt.xlabel('no of components')\n",
    "plt.ylabel('Reconstriction Errors')\n",
    "#plt.grid(axis='y', linestyle='-')\n",
    "plt.show()"
   ]
  },
  {
   "cell_type": "markdown",
   "id": "fe46419f-fcfb-4a15-a6e0-66d44851f0ee",
   "metadata": {},
   "source": [
    "### Fit and Transform the diabetes dataset using LLE "
   ]
  },
  {
   "cell_type": "code",
   "execution_count": null,
   "id": "51e9cfbe-ded4-49a8-942f-247a400d9b8f",
   "metadata": {},
   "outputs": [],
   "source": [
    "%%time\n",
    "diabetese_lle = LocallyLinearEmbedding(n_components=10, n_neighbors=5, eigen_solver='dense') \n",
    "X_diabetes_lle = diabetese_lle.fit_transform(X_diabetes_Scaled[:20000]) \n",
    "X_diabetes_lle.shape"
   ]
  },
  {
   "cell_type": "markdown",
   "id": "65596c72-fa32-4bdd-9ac6-74f9eaa7761d",
   "metadata": {},
   "source": [
    "#### Store reduced diabetes dataframe to file "
   ]
  },
  {
   "cell_type": "code",
   "execution_count": null,
   "id": "6fd08906-6857-4801-b931-808fbf372f17",
   "metadata": {},
   "outputs": [],
   "source": [
    "diabetes_df_reduced = pd.DataFrame(X_diabetes_lle)"
   ]
  },
  {
   "cell_type": "code",
   "execution_count": null,
   "id": "fc3f9161-cdd6-4230-a9e5-736e4e255660",
   "metadata": {},
   "outputs": [],
   "source": [
    "outdir = './data/processed_data'\n",
    "if not os.path.exists(outdir):\n",
    "    os.mkdir(outdir)"
   ]
  },
  {
   "cell_type": "code",
   "execution_count": null,
   "id": "a7e08021-3016-4bf1-93f7-cde45fbed0c0",
   "metadata": {},
   "outputs": [],
   "source": [
    "diabetes_df_reduced.to_csv(os.path.join(outdir,f\"reduced_diabetes_lle.csv\" ),index=False)"
   ]
  },
  {
   "cell_type": "markdown",
   "id": "ae902296-3420-4eba-b43f-69931e188a41",
   "metadata": {},
   "source": [
    "## LLE Car Insurance Claim Dataset"
   ]
  },
  {
   "cell_type": "code",
   "execution_count": 12,
   "id": "c707c3fd-1a14-4925-b353-d6fa95947f46",
   "metadata": {},
   "outputs": [],
   "source": [
    "# read data from the file and plot \n",
    "filename = os.path.join(outdir, f\"insurance_data_train.csv\" )    \n",
    "insurance_df = pd.read_csv(filename)"
   ]
  },
  {
   "cell_type": "code",
   "execution_count": 45,
   "id": "1d717cd9-a9c3-47d6-9c91-9a203f984800",
   "metadata": {},
   "outputs": [
    {
     "data": {
      "text/plain": [
       "(46873, 40)"
      ]
     },
     "execution_count": 45,
     "metadata": {},
     "output_type": "execute_result"
    }
   ],
   "source": [
    "insurance_df.shape"
   ]
  },
  {
   "cell_type": "code",
   "execution_count": 51,
   "id": "2dffa66d-79f2-4a70-8614-3254f71d9a63",
   "metadata": {},
   "outputs": [],
   "source": [
    "scaler = StandardScaler()\n",
    "X_Insurance_Scaled = scaler.fit_transform(insurance_df)"
   ]
  },
  {
   "cell_type": "code",
   "execution_count": 74,
   "id": "7b57ba38-5156-4613-b7f6-150284eb81e3",
   "metadata": {},
   "outputs": [
    {
     "name": "stdout",
     "output_type": "stream",
     "text": [
      "CPU times: total: 29min 24s\n",
      "Wall time: 12min 56s\n"
     ]
    }
   ],
   "source": [
    "%%time\n",
    "reconstruction_ins_errs = []\n",
    "components = [2,4,6,8,10,12,14,16,18,20]\n",
    "\n",
    "for n_component in components:\n",
    "    temp_lle = LocallyLinearEmbedding(n_components=n_component, n_neighbors=3,eigen_solver='dense')\n",
    "    X_insurance_fitted = temp_lle.fit(X_Insurance_Scaled[:10000]) \n",
    "    reconstruction_ins_errs.append(X_insurance_fitted.reconstruction_error_)"
   ]
  },
  {
   "cell_type": "code",
   "execution_count": 75,
   "id": "ce82058a-876a-4425-9bce-a26187ede0a4",
   "metadata": {},
   "outputs": [
    {
     "data": {
      "image/png": "[encoded data removed]",
      "text/plain": [
       "<Figure size 640x480 with 1 Axes>"
      ]
     },
     "metadata": {},
     "output_type": "display_data"
    }
   ],
   "source": [
    "my_xticks = components\n",
    "plt.xticks(components, my_xticks)\n",
    "plt.plot(components, reconstruction_ins_errs)\n",
    "plt.xlabel('no of components')\n",
    "plt.ylabel('Reconstriction Errors')\n",
    "#plt.grid(axis='y', linestyle='-')\n",
    "plt.show()"
   ]
  },
  {
   "cell_type": "code",
   "execution_count": null,
   "id": "dfa3312c-5e02-4155-bdee-4822d48546b3",
   "metadata": {},
   "outputs": [],
   "source": [
    "%%time\n",
    "insurance_lle = LocallyLinearEmbedding(n_components=20, n_neighbors=3, eigen_solver='dense') \n",
    "X_insurance_lle = insurance_lle.fit_transform(insurance_df) \n",
    "X_insurance_lle.shape"
   ]
  },
  {
   "cell_type": "code",
   "execution_count": null,
   "id": "cd9faecf-1f49-4d32-abfb-6a4cd2cfbb70",
   "metadata": {},
   "outputs": [],
   "source": [
    "X_insurance_lle.head()"
   ]
  },
  {
   "cell_type": "code",
   "execution_count": null,
   "id": "0926d7dd-fbf6-4a0a-a4a4-4bab7cad1c30",
   "metadata": {},
   "outputs": [],
   "source": [
    "insurance_df_reduced = pd.DataFrame(X_insurance_lle)"
   ]
  },
  {
   "cell_type": "code",
   "execution_count": null,
   "id": "d2dd9cf2-75ca-4424-9e1e-902b6fc090cc",
   "metadata": {},
   "outputs": [],
   "source": [
    "insurance_df_reduced.to_csv(os.path.join(outdir,f\"reduced_insurance_lle.csv\" ),index=False)"
   ]
  },
  {
   "cell_type": "code",
   "execution_count": null,
   "id": "c7e6bb3f-8ac9-4477-91d1-10ebffee6515",
   "metadata": {},
   "outputs": [],
   "source": []
  }
 ],
 "metadata": {
  "kernelspec": {
   "display_name": "Python 3 (ipykernel)",
   "language": "python",
   "name": "python3"
  },
  "language_info": {
   "codemirror_mode": {
    "name": "ipython",
    "version": 3
   },
   "file_extension": ".py",
   "mimetype": "text/x-python",
   "name": "python",
   "nbconvert_exporter": "python",
   "pygments_lexer": "ipython3",
   "version": "3.10.9"
  }
 },
 "nbformat": 4,
 "nbformat_minor": 5
}
