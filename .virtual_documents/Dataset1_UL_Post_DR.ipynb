%matplotlib inline
import warnings
warnings.filterwarnings('ignore')
import matplotlib.pyplot as plt
from matplotlib.patches import PathPatch as Patch
import numpy as np
import pandas as pd
import time
import os
import seaborn as sns
from scipy import stats
import sklearn.preprocessing as skp
import sklearn.cluster as skc
from sklearn.mixture import GaussianMixture
from sklearn.cluster import KMeans
from sklearn.mixture import BayesianGaussianMixture
from sklearn.model_selection import train_test_split
from scipy import linalg
import itertools
from joblib import dump, load


outdir = './data/processed_data'





gmm_filename = os.path.join(outdir, f"gmm_diabetese_trained.joblib" ) 


gmm_diabetese_loaded = load(gmm_filename)


gmm_diabetese_loaded.converged_





 # read data from the file and plot 
filename = os.path.join(outdir, f"reduced_diabetes_pca.csv" )    
X_reduced_pca = pd.read_csv(filename)


gmm = GaussianMixture(n_components=7, n_init=10)


gmm.fit(X_reduced_pca)


predictions = gmm.predict_proba(X_reduced_pca)


labels = gmm.predict(X_reduced_pca)


#X_reduced_pca['pred_prob'] = predictions
X_reduced_pca['labels'] = labels


gmm.converged_


sns.pairplot(X_reduced_pca, vars=["BMI","GenHlth"], hue="labels")


sns.pairplot(X_train, vars=["Education","Income"], hue="labels")


sns.pairplot(X_train, vars=["Age","HighBP"], hue="labels")




















pip install kmodes


from kmodes.kmodes import KModes








cost = []

K = range(2,7)
for num_clusters in list(K):
    kmode = KModes(num_clusters, init="random",n_init=5,verbose=1)
    kmode.fit_predict(X_train)
    cost.append(kmode.cost_)


kmode_cost_filename = os.path.join(outdir, f"kmode_costs.npy" )    
np.save(kmode_cost_filename, cost)


kmode_cost_filename = os.path.join(outdir, f"kmode_costs.npy" )      
k_range = np.arange(2,7)
k_costs=np.load(kmode_cost_filename)

plt.plot(k_range, k_costs[:5], 'bx-')
plt.xlabel('No. of clusters')
plt.ylabel('Cost')
plt.title('Elbow Method For Optimal k')
plt.show()





from sklearn.metrics import silhouette_samples, silhouette_score

silhouette_scores = []

K = range(2,7)
for num_clusters in list(K):
    kmode = KModes(num_clusters, init="random",n_init=5,verbose=1)
    kmode_fitted=kmode.fit(X_train)
    cluster_labels = kmode_fitted.labels_
    silhouette_scores.append(silhouette_score(X_train, cluster_labels))


kmode_silhoutte_filename = os.path.join(outdir, f"kmode_silhouette.npy" )    
np.save(kmode_silhoutte_filename, silhouette_scores)


len(silhouette_scores)


kmode_sil_filename = os.path.join(outdir, f"kmode_silhouette.npy" )      
k_range = np.arange(3,7)
k_sil=np.load(kmode_sil_filename)

plt.plot(k_range, k_sil[1:5], 'bx-')
plt.xlabel('No. of clusters')
plt.ylabel('Silhouette Scores')
#plt.title('Elbow Method For Optimal k')
plt.show()





kmode = KModes(n_clusters=5, init = "random", n_init = 5, verbose=1)
clusters = kmode.fit_predict(X_train)


clusters


cluster_centers_indices = kmode.cluster_centroids_ 
n_clusters = 5




from itertools import cycle
colors = cycle('bgrcmykbgrcmykbgrcmykbgrcmyk')

for k, col in zip(range(n_clusters), colors):
    class_members = clusters 
    cluster_center = cluster_centers_indices[k]
    plt.plot(X_train.iloc[class_members, 0], X_train.iloc[class_members, 1], col + '.')
    plt.plot(cluster_center[0], cluster_center[1], 'o', markerfacecolor=col,
             markeredgecolor='k', markersize=14)
    for x in X_train.iloc[class_members]:
        plt.plot([cluster_center[0], x[0]], [cluster_center[1], x[1]], col)


X_train['kmode_labels'] = clusters


sns.pairplot(X_train, vars=["BMI","GenHlth"], hue="kmode_labels" , kind = "scatter")


sns.pairplot(X_train, vars=["PhysHlth","GenHlth"], hue="kmode_labels")



