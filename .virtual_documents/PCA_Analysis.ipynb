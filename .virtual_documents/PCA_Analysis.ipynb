%matplotlib inline
import warnings
warnings.filterwarnings('ignore')
import matplotlib.pyplot as plt
from matplotlib.patches import PathPatch as Patch
import numpy as np
import pandas as pd
import time
import os

from sklearn.decomposition import PCA
from sklearn.model_selection import train_test_split


outdir = './data/processed_data'


 # read data from the file and plot 
filename = os.path.join(outdir, f"cleanded_diabetes_data.csv" )    
diabetes_df = pd.read_csv(filename)


# drop Diabetes_012 column from dataset to get input matrix X
X = diabetes_df.drop('Diabetes_012', axis=1)
# Extract Diabetes_012 column to generate output vector y
y = diabetes_df['Diabetes_012']


X_train, X_test, y_train_true, y_test_true = train_test_split(X, y, test_size=0.2)


pca = PCA()
pca.fit(X_train)


PC_values = np.arange(pca.n_components_) + 1
#plt.plot(PC_values, pca.explained_variance_ratio_, 'ro-', linewidth=2)
plt.plot(np.cumsum(pca.explained_variance_ratio_, marker='o')
plt.title('Cumulative Explained Variance by Principal Components')
plt.xlabel('Principal Component')
plt.ylabel('Proportion of Variance Explained')
plt.show()


plt.bar(range(1,22), pca.explained_variance_ratio_,
        alpha=0.5,
        align='center')
plt.step(range(1,22), np.cumsum(pca.explained_variance_ratio_),
         where='mid',
         color='red')
plt.ylabel('Explained variance ratio')
plt.xlabel('Principal Components')
plt.show()


# Eigenvalues 
eigenvalues = pca.explained_variance_

plt.plot(eigenvalues, marker='o', color='blue')
plt.xlabel("Eigenvalue number")
plt.ylabel("Eigenvalue size")
plt.title("Scree Plot")
plt.savefig('scree plot.png')





pca_optimized = PCA(n_components=5)
X_train_reduced = pca_optimized.fit_transform(X_train)


diabetes_df_reduced = pd.DataFrame(X_train_reduced)


diabetes_df_reduced.shape


diabetes_df_reduced.head()





outdir = './data/processed_data'
if not os.path.exists(outdir):
    os.mkdir(outdir)


diabetes_df_reduced.to_csv(os.path.join(outdir,f"reduced_diabetes_pca.csv" ),index=False)





# read data from the file and plot 
filename = os.path.join(outdir, f"insurance_data_train.csv" )    
insurance_df = pd.read_csv(filename)


pca_insurance = PCA()
pca_insurance.fit(insurance_df)


PC_values = np.arange(pca_insurance.n_components_) + 1
#plt.plot(PC_values, pca.explained_variance_ratio_, 'ro-', linewidth=2)
plt.plot(np.cumsum(pca_insurance.explained_variance_ratio_[0:5]), marker='o')
plt.title('Cumulative Explained Variance by Principal Components')
plt.xlabel('Principal Component')
plt.ylabel('Proportion of Variance Explained')
plt.show()


pca_insurance.explained_variance_ratio_[0:10]


plt.bar(range(1,11), pca_insurance.explained_variance_ratio_[0:10],
        alpha=0.5,
        align='center')
plt.step(range(1,11), np.cumsum(pca_insurance.explained_variance_ratio_[0:10]),
         where='mid',
         color='red')
plt.ylabel('Explained variance ratio')
plt.xlabel('Principal Components')
plt.show()


# Eigenvalues 
eigenvalues = pca_insurance.explained_variance_[0:10]

plt.plot(eigenvalues, marker='o', color='blue')
plt.xlabel("Eigenvalue number")
plt.ylabel("Eigenvalue size")
plt.title("Scree Plot")
plt.savefig('scree plot.png')





pca_insurance_optimized = PCA(n_components=1)
insurance_reduced = pca_insurance_optimized.fit_transform(insurance_df)

insurance_df_reduced = pd.DataFrame(insurance_reduced)


insurance_df_reduced.head()


insurance_df_reduced.to_csv(os.path.join(outdir,f"reduced_insurance_pca.csv" ),index=False)



