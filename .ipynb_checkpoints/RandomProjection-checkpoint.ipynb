{
 "cells": [
  {
   "cell_type": "code",
   "execution_count": 10,
   "id": "84fadb71-582a-475e-9b93-f723b9db0107",
   "metadata": {},
   "outputs": [],
   "source": [
    "%matplotlib inline\n",
    "import warnings\n",
    "warnings.filterwarnings('ignore')\n",
    "import matplotlib.pyplot as plt\n",
    "from matplotlib.patches import PathPatch as Patch\n",
    "import numpy as np\n",
    "import pandas as pd\n",
    "import time\n",
    "import os\n",
    "\n",
    "from sklearn.random_projection import SparseRandomProjection, johnson_lindenstrauss_min_dim\n",
    "from sklearn.metrics.pairwise import euclidean_distances"
   ]
  },
  {
   "cell_type": "code",
   "execution_count": 4,
   "id": "6499d514-cc5f-4002-a322-7f6d6291cead",
   "metadata": {},
   "outputs": [],
   "source": [
    "outdir = './data/processed_data'"
   ]
  },
  {
   "cell_type": "markdown",
   "id": "de048691-e137-4c83-be33-5148af42fadc",
   "metadata": {},
   "source": [
    "## Random Projection on Diabetes Dataset"
   ]
  },
  {
   "cell_type": "code",
   "execution_count": 6,
   "id": "025323d4-9325-4e6e-879b-54ff133f967a",
   "metadata": {},
   "outputs": [],
   "source": [
    " # read data from the file and plot \n",
    "filename = os.path.join(outdir, f\"diabetes_data_train.csv\" )    \n",
    "X_train = pd.read_csv(filename)"
   ]
  },
  {
   "cell_type": "code",
   "execution_count": 12,
   "id": "0b6c91e1-298f-4b4a-ab78-e7352a410b0e",
   "metadata": {},
   "outputs": [
    {
     "data": {
      "text/plain": [
       "183824"
      ]
     },
     "execution_count": 12,
     "metadata": {},
     "output_type": "execute_result"
    }
   ],
   "source": [
    "X_train.shape[0]"
   ]
  },
  {
   "cell_type": "code",
   "execution_count": null,
   "id": "84580a2c-f493-416c-be85-3e4f5b7c6995",
   "metadata": {},
   "outputs": [],
   "source": [
    "## Identify minimum number of dimensions "
   ]
  },
  {
   "cell_type": "code",
   "execution_count": 59,
   "id": "23a80634-7ed2-4850-9b65-3ee7822d8ce8",
   "metadata": {},
   "outputs": [
    {
     "name": "stdout",
     "output_type": "stream",
     "text": [
      "[0.001 0.01  0.019 0.028 0.037 0.046 0.055 0.064 0.073 0.082 0.091 0.1  ]\n",
      "12\n",
      "Total number of instances: 15000\n",
      "Minimum dimensionality needed:76977762\n",
      "Total number of instances: 30000\n",
      "Minimum dimensionality needed:830251\n",
      "Total number of instances: 45000\n",
      "Minimum dimensionality needed:240484\n",
      "Total number of instances: 60000\n",
      "Minimum dimensionality needed:114401\n",
      "Total number of instances: 75000\n",
      "Minimum dimensionality needed:67255\n",
      "Total number of instances: 90000\n",
      "Minimum dimensionality needed:44493\n",
      "Total number of instances: 105000\n",
      "Minimum dimensionality needed:31740\n",
      "Total number of instances: 120000\n",
      "Minimum dimensionality needed:23860\n",
      "Total number of instances: 135000\n",
      "Minimum dimensionality needed:18641\n",
      "Total number of instances: 150000\n",
      "Minimum dimensionality needed:15000\n",
      "Total number of instances: 165000\n",
      "Minimum dimensionality needed:12355\n",
      "Total number of instances: 180000\n",
      "Minimum dimensionality needed:10372\n"
     ]
    }
   ],
   "source": [
    "eps = np.arange(0.001, 0.1,0.009)\n",
    "print(eps)\n",
    "colors = ['b', 'g', 'm', 'c']\n",
    "m = np.arange(15000, X_train.shape[0],step=15000)\n",
    "print(len(m))\n",
    "for i in range(len(m)):\n",
    "    print(f\"Total number of instances: {m[i]}\")\n",
    "   \n",
    "    min_dim = johnson_lindenstrauss_min_dim(n_samples=m[i], eps=eps[i])\n",
    "    label = 'Epsilon = ' + str(eps[i])\n",
    "    print(f\"Minimum dimensionality needed:{min_dim}\")\n",
    "    #plt.plot( eps[i],min_dim, c=colors[i], label=label)\n",
    "    \n",
    "#plt.xlabel('eps')\n",
    "#plt.ylabel('log$_{10}$(d)')\n",
    "#plt.axhline(y=3.5, color='k', linestyle=':')\n",
    "#plt.legend()\n",
    "#plt.show()"
   ]
  },
  {
   "cell_type": "code",
   "execution_count": 61,
   "id": "2cab2107-fdf2-4485-bf32-15a4de5d2af8",
   "metadata": {},
   "outputs": [
    {
     "ename": "ValueError",
     "evalue": "eps=0.100000 and n_samples=183824 lead to a target dimension of 10390 which is larger than the original space with n_features=21",
     "output_type": "error",
     "traceback": [
      "\u001b[1;31m---------------------------------------------------------------------------\u001b[0m",
      "\u001b[1;31mValueError\u001b[0m                                Traceback (most recent call last)",
      "Cell \u001b[1;32mIn[61], line 2\u001b[0m\n\u001b[0;32m      1\u001b[0m diabetese_proj_gauss \u001b[38;5;241m=\u001b[39m SparseRandomProjection(random_state\u001b[38;5;241m=\u001b[39m\u001b[38;5;241m42\u001b[39m,eps\u001b[38;5;241m=\u001b[39m\u001b[38;5;241m0.1\u001b[39m)\n\u001b[1;32m----> 2\u001b[0m X_transformed \u001b[38;5;241m=\u001b[39m \u001b[43mdiabetese_proj_gauss\u001b[49m\u001b[38;5;241;43m.\u001b[39;49m\u001b[43mfit_transform\u001b[49m\u001b[43m(\u001b[49m\u001b[43mX_train\u001b[49m\u001b[43m)\u001b[49m\n",
      "File \u001b[1;32m~\\AppData\\Roaming\\Python\\Python310\\site-packages\\sklearn\\utils\\_set_output.py:273\u001b[0m, in \u001b[0;36m_wrap_method_output.<locals>.wrapped\u001b[1;34m(self, X, *args, **kwargs)\u001b[0m\n\u001b[0;32m    271\u001b[0m \u001b[38;5;129m@wraps\u001b[39m(f)\n\u001b[0;32m    272\u001b[0m \u001b[38;5;28;01mdef\u001b[39;00m \u001b[38;5;21mwrapped\u001b[39m(\u001b[38;5;28mself\u001b[39m, X, \u001b[38;5;241m*\u001b[39margs, \u001b[38;5;241m*\u001b[39m\u001b[38;5;241m*\u001b[39mkwargs):\n\u001b[1;32m--> 273\u001b[0m     data_to_wrap \u001b[38;5;241m=\u001b[39m f(\u001b[38;5;28mself\u001b[39m, X, \u001b[38;5;241m*\u001b[39margs, \u001b[38;5;241m*\u001b[39m\u001b[38;5;241m*\u001b[39mkwargs)\n\u001b[0;32m    274\u001b[0m     \u001b[38;5;28;01mif\u001b[39;00m \u001b[38;5;28misinstance\u001b[39m(data_to_wrap, \u001b[38;5;28mtuple\u001b[39m):\n\u001b[0;32m    275\u001b[0m         \u001b[38;5;66;03m# only wrap the first output for cross decomposition\u001b[39;00m\n\u001b[0;32m    276\u001b[0m         return_tuple \u001b[38;5;241m=\u001b[39m (\n\u001b[0;32m    277\u001b[0m             _wrap_data_with_container(method, data_to_wrap[\u001b[38;5;241m0\u001b[39m], X, \u001b[38;5;28mself\u001b[39m),\n\u001b[0;32m    278\u001b[0m             \u001b[38;5;241m*\u001b[39mdata_to_wrap[\u001b[38;5;241m1\u001b[39m:],\n\u001b[0;32m    279\u001b[0m         )\n",
      "File \u001b[1;32m~\\AppData\\Roaming\\Python\\Python310\\site-packages\\sklearn\\base.py:1061\u001b[0m, in \u001b[0;36mTransformerMixin.fit_transform\u001b[1;34m(self, X, y, **fit_params)\u001b[0m\n\u001b[0;32m   1046\u001b[0m         warnings\u001b[38;5;241m.\u001b[39mwarn(\n\u001b[0;32m   1047\u001b[0m             (\n\u001b[0;32m   1048\u001b[0m                 \u001b[38;5;124mf\u001b[39m\u001b[38;5;124m\"\u001b[39m\u001b[38;5;124mThis object (\u001b[39m\u001b[38;5;132;01m{\u001b[39;00m\u001b[38;5;28mself\u001b[39m\u001b[38;5;241m.\u001b[39m\u001b[38;5;18m__class__\u001b[39m\u001b[38;5;241m.\u001b[39m\u001b[38;5;18m__name__\u001b[39m\u001b[38;5;132;01m}\u001b[39;00m\u001b[38;5;124m) has a `transform`\u001b[39m\u001b[38;5;124m\"\u001b[39m\n\u001b[1;32m   (...)\u001b[0m\n\u001b[0;32m   1056\u001b[0m             \u001b[38;5;167;01mUserWarning\u001b[39;00m,\n\u001b[0;32m   1057\u001b[0m         )\n\u001b[0;32m   1059\u001b[0m \u001b[38;5;28;01mif\u001b[39;00m y \u001b[38;5;129;01mis\u001b[39;00m \u001b[38;5;28;01mNone\u001b[39;00m:\n\u001b[0;32m   1060\u001b[0m     \u001b[38;5;66;03m# fit method of arity 1 (unsupervised transformation)\u001b[39;00m\n\u001b[1;32m-> 1061\u001b[0m     \u001b[38;5;28;01mreturn\u001b[39;00m \u001b[38;5;28mself\u001b[39m\u001b[38;5;241m.\u001b[39mfit(X, \u001b[38;5;241m*\u001b[39m\u001b[38;5;241m*\u001b[39mfit_params)\u001b[38;5;241m.\u001b[39mtransform(X)\n\u001b[0;32m   1062\u001b[0m \u001b[38;5;28;01melse\u001b[39;00m:\n\u001b[0;32m   1063\u001b[0m     \u001b[38;5;66;03m# fit method of arity 2 (supervised transformation)\u001b[39;00m\n\u001b[0;32m   1064\u001b[0m     \u001b[38;5;28;01mreturn\u001b[39;00m \u001b[38;5;28mself\u001b[39m\u001b[38;5;241m.\u001b[39mfit(X, y, \u001b[38;5;241m*\u001b[39m\u001b[38;5;241m*\u001b[39mfit_params)\u001b[38;5;241m.\u001b[39mtransform(X)\n",
      "File \u001b[1;32m~\\AppData\\Roaming\\Python\\Python310\\site-packages\\sklearn\\base.py:1351\u001b[0m, in \u001b[0;36m_fit_context.<locals>.decorator.<locals>.wrapper\u001b[1;34m(estimator, *args, **kwargs)\u001b[0m\n\u001b[0;32m   1344\u001b[0m     estimator\u001b[38;5;241m.\u001b[39m_validate_params()\n\u001b[0;32m   1346\u001b[0m \u001b[38;5;28;01mwith\u001b[39;00m config_context(\n\u001b[0;32m   1347\u001b[0m     skip_parameter_validation\u001b[38;5;241m=\u001b[39m(\n\u001b[0;32m   1348\u001b[0m         prefer_skip_nested_validation \u001b[38;5;129;01mor\u001b[39;00m global_skip_validation\n\u001b[0;32m   1349\u001b[0m     )\n\u001b[0;32m   1350\u001b[0m ):\n\u001b[1;32m-> 1351\u001b[0m     \u001b[38;5;28;01mreturn\u001b[39;00m fit_method(estimator, \u001b[38;5;241m*\u001b[39margs, \u001b[38;5;241m*\u001b[39m\u001b[38;5;241m*\u001b[39mkwargs)\n",
      "File \u001b[1;32m~\\AppData\\Roaming\\Python\\Python310\\site-packages\\sklearn\\random_projection.py:400\u001b[0m, in \u001b[0;36mBaseRandomProjection.fit\u001b[1;34m(self, X, y)\u001b[0m\n\u001b[0;32m    394\u001b[0m         \u001b[38;5;28;01mraise\u001b[39;00m \u001b[38;5;167;01mValueError\u001b[39;00m(\n\u001b[0;32m    395\u001b[0m             \u001b[38;5;124m\"\u001b[39m\u001b[38;5;124meps=\u001b[39m\u001b[38;5;132;01m%f\u001b[39;00m\u001b[38;5;124m and n_samples=\u001b[39m\u001b[38;5;132;01m%d\u001b[39;00m\u001b[38;5;124m lead to a target dimension of \u001b[39m\u001b[38;5;124m\"\u001b[39m\n\u001b[0;32m    396\u001b[0m             \u001b[38;5;124m\"\u001b[39m\u001b[38;5;132;01m%d\u001b[39;00m\u001b[38;5;124m which is invalid\u001b[39m\u001b[38;5;124m\"\u001b[39m \u001b[38;5;241m%\u001b[39m (\u001b[38;5;28mself\u001b[39m\u001b[38;5;241m.\u001b[39meps, n_samples, \u001b[38;5;28mself\u001b[39m\u001b[38;5;241m.\u001b[39mn_components_)\n\u001b[0;32m    397\u001b[0m         )\n\u001b[0;32m    399\u001b[0m     \u001b[38;5;28;01melif\u001b[39;00m \u001b[38;5;28mself\u001b[39m\u001b[38;5;241m.\u001b[39mn_components_ \u001b[38;5;241m>\u001b[39m n_features:\n\u001b[1;32m--> 400\u001b[0m         \u001b[38;5;28;01mraise\u001b[39;00m \u001b[38;5;167;01mValueError\u001b[39;00m(\n\u001b[0;32m    401\u001b[0m             \u001b[38;5;124m\"\u001b[39m\u001b[38;5;124meps=\u001b[39m\u001b[38;5;132;01m%f\u001b[39;00m\u001b[38;5;124m and n_samples=\u001b[39m\u001b[38;5;132;01m%d\u001b[39;00m\u001b[38;5;124m lead to a target dimension of \u001b[39m\u001b[38;5;124m\"\u001b[39m\n\u001b[0;32m    402\u001b[0m             \u001b[38;5;124m\"\u001b[39m\u001b[38;5;132;01m%d\u001b[39;00m\u001b[38;5;124m which is larger than the original space with \u001b[39m\u001b[38;5;124m\"\u001b[39m\n\u001b[0;32m    403\u001b[0m             \u001b[38;5;124m\"\u001b[39m\u001b[38;5;124mn_features=\u001b[39m\u001b[38;5;132;01m%d\u001b[39;00m\u001b[38;5;124m\"\u001b[39m\n\u001b[0;32m    404\u001b[0m             \u001b[38;5;241m%\u001b[39m (\u001b[38;5;28mself\u001b[39m\u001b[38;5;241m.\u001b[39meps, n_samples, \u001b[38;5;28mself\u001b[39m\u001b[38;5;241m.\u001b[39mn_components_, n_features)\n\u001b[0;32m    405\u001b[0m         )\n\u001b[0;32m    406\u001b[0m \u001b[38;5;28;01melse\u001b[39;00m:\n\u001b[0;32m    407\u001b[0m     \u001b[38;5;28;01mif\u001b[39;00m \u001b[38;5;28mself\u001b[39m\u001b[38;5;241m.\u001b[39mn_components \u001b[38;5;241m>\u001b[39m n_features:\n",
      "\u001b[1;31mValueError\u001b[0m: eps=0.100000 and n_samples=183824 lead to a target dimension of 10390 which is larger than the original space with n_features=21"
     ]
    }
   ],
   "source": [
    "diabetese_proj_gauss = SparseRandomProjection(random_state=42,eps=0.1)\n",
    "X_transformed = diabetese_proj_gauss.fit_transform(X_train)"
   ]
  },
  {
   "cell_type": "code",
   "execution_count": null,
   "id": "a5468eaa-e9b5-47f4-b07c-e2d52004120a",
   "metadata": {},
   "outputs": [],
   "source": []
  },
  {
   "cell_type": "markdown",
   "id": "7bf91461-27dd-4d45-a0b8-774843f0f6ec",
   "metadata": {},
   "source": [
    "## Random Projection on Insurance Dataset"
   ]
  },
  {
   "cell_type": "code",
   "execution_count": 64,
   "id": "4f62713b-5814-4dc7-886a-cb86143e092f",
   "metadata": {},
   "outputs": [],
   "source": [
    "# read data from the file and plot \n",
    "filename = os.path.join(outdir, f\"insurance_data_train.csv\" )    \n",
    "X_train_insurance = pd.read_csv(filename)"
   ]
  },
  {
   "cell_type": "code",
   "execution_count": 65,
   "id": "92841636-13de-4983-af0d-998bf87063fb",
   "metadata": {},
   "outputs": [
    {
     "data": {
      "text/plain": [
       "46873"
      ]
     },
     "execution_count": 65,
     "metadata": {},
     "output_type": "execute_result"
    }
   ],
   "source": [
    "X_train_insurance.shape[0]"
   ]
  },
  {
   "cell_type": "code",
   "execution_count": 66,
   "id": "f55f2166-a7a6-41f6-96c1-e1af50702ff8",
   "metadata": {},
   "outputs": [
    {
     "name": "stdout",
     "output_type": "stream",
     "text": [
      "[0.001 0.01  0.019 0.028 0.037 0.046 0.055 0.064 0.073 0.082 0.091 0.1  ]\n",
      "5\n",
      "Total number of instances: 5000\n",
      "Minimum dimensionality needed:68183000\n",
      "Total number of instances: 15000\n",
      "Minimum dimensionality needed:774427\n",
      "Total number of instances: 25000\n",
      "Minimum dimensionality needed:227291\n",
      "Total number of instances: 35000\n",
      "Minimum dimensionality needed:108797\n",
      "Total number of instances: 45000\n",
      "Minimum dimensionality needed:64195\n"
     ]
    }
   ],
   "source": [
    "eps = np.arange(0.001, 0.1,0.009)\n",
    "print(eps)\n",
    "colors = ['b', 'g', 'm', 'c']\n",
    "m = np.arange(5000, X_train_insurance.shape[0],step=10000)\n",
    "print(len(m))\n",
    "for i in range(len(m)):\n",
    "    print(f\"Total number of instances: {m[i]}\")\n",
    "   \n",
    "    min_dim = johnson_lindenstrauss_min_dim(n_samples=m[i], eps=eps[i])\n",
    "    label = 'Epsilon = ' + str(eps[i])\n",
    "    print(f\"Minimum dimensionality needed:{min_dim}\")"
   ]
  },
  {
   "cell_type": "code",
   "execution_count": 67,
   "id": "8b336406-dc15-4d1a-bc57-8ea3c71e4a0f",
   "metadata": {},
   "outputs": [
    {
     "ename": "ValueError",
     "evalue": "eps=0.100000 and n_samples=46873 lead to a target dimension of 9218 which is larger than the original space with n_features=40",
     "output_type": "error",
     "traceback": [
      "\u001b[1;31m---------------------------------------------------------------------------\u001b[0m",
      "\u001b[1;31mValueError\u001b[0m                                Traceback (most recent call last)",
      "Cell \u001b[1;32mIn[67], line 2\u001b[0m\n\u001b[0;32m      1\u001b[0m insurance_proj_gauss \u001b[38;5;241m=\u001b[39m SparseRandomProjection(random_state\u001b[38;5;241m=\u001b[39m\u001b[38;5;241m42\u001b[39m,eps\u001b[38;5;241m=\u001b[39m\u001b[38;5;241m0.1\u001b[39m)\n\u001b[1;32m----> 2\u001b[0m X_insurnace_transformed \u001b[38;5;241m=\u001b[39m \u001b[43minsurance_proj_gauss\u001b[49m\u001b[38;5;241;43m.\u001b[39;49m\u001b[43mfit_transform\u001b[49m\u001b[43m(\u001b[49m\u001b[43mX_train_insurance\u001b[49m\u001b[43m)\u001b[49m\n",
      "File \u001b[1;32m~\\AppData\\Roaming\\Python\\Python310\\site-packages\\sklearn\\utils\\_set_output.py:273\u001b[0m, in \u001b[0;36m_wrap_method_output.<locals>.wrapped\u001b[1;34m(self, X, *args, **kwargs)\u001b[0m\n\u001b[0;32m    271\u001b[0m \u001b[38;5;129m@wraps\u001b[39m(f)\n\u001b[0;32m    272\u001b[0m \u001b[38;5;28;01mdef\u001b[39;00m \u001b[38;5;21mwrapped\u001b[39m(\u001b[38;5;28mself\u001b[39m, X, \u001b[38;5;241m*\u001b[39margs, \u001b[38;5;241m*\u001b[39m\u001b[38;5;241m*\u001b[39mkwargs):\n\u001b[1;32m--> 273\u001b[0m     data_to_wrap \u001b[38;5;241m=\u001b[39m f(\u001b[38;5;28mself\u001b[39m, X, \u001b[38;5;241m*\u001b[39margs, \u001b[38;5;241m*\u001b[39m\u001b[38;5;241m*\u001b[39mkwargs)\n\u001b[0;32m    274\u001b[0m     \u001b[38;5;28;01mif\u001b[39;00m \u001b[38;5;28misinstance\u001b[39m(data_to_wrap, \u001b[38;5;28mtuple\u001b[39m):\n\u001b[0;32m    275\u001b[0m         \u001b[38;5;66;03m# only wrap the first output for cross decomposition\u001b[39;00m\n\u001b[0;32m    276\u001b[0m         return_tuple \u001b[38;5;241m=\u001b[39m (\n\u001b[0;32m    277\u001b[0m             _wrap_data_with_container(method, data_to_wrap[\u001b[38;5;241m0\u001b[39m], X, \u001b[38;5;28mself\u001b[39m),\n\u001b[0;32m    278\u001b[0m             \u001b[38;5;241m*\u001b[39mdata_to_wrap[\u001b[38;5;241m1\u001b[39m:],\n\u001b[0;32m    279\u001b[0m         )\n",
      "File \u001b[1;32m~\\AppData\\Roaming\\Python\\Python310\\site-packages\\sklearn\\base.py:1061\u001b[0m, in \u001b[0;36mTransformerMixin.fit_transform\u001b[1;34m(self, X, y, **fit_params)\u001b[0m\n\u001b[0;32m   1046\u001b[0m         warnings\u001b[38;5;241m.\u001b[39mwarn(\n\u001b[0;32m   1047\u001b[0m             (\n\u001b[0;32m   1048\u001b[0m                 \u001b[38;5;124mf\u001b[39m\u001b[38;5;124m\"\u001b[39m\u001b[38;5;124mThis object (\u001b[39m\u001b[38;5;132;01m{\u001b[39;00m\u001b[38;5;28mself\u001b[39m\u001b[38;5;241m.\u001b[39m\u001b[38;5;18m__class__\u001b[39m\u001b[38;5;241m.\u001b[39m\u001b[38;5;18m__name__\u001b[39m\u001b[38;5;132;01m}\u001b[39;00m\u001b[38;5;124m) has a `transform`\u001b[39m\u001b[38;5;124m\"\u001b[39m\n\u001b[1;32m   (...)\u001b[0m\n\u001b[0;32m   1056\u001b[0m             \u001b[38;5;167;01mUserWarning\u001b[39;00m,\n\u001b[0;32m   1057\u001b[0m         )\n\u001b[0;32m   1059\u001b[0m \u001b[38;5;28;01mif\u001b[39;00m y \u001b[38;5;129;01mis\u001b[39;00m \u001b[38;5;28;01mNone\u001b[39;00m:\n\u001b[0;32m   1060\u001b[0m     \u001b[38;5;66;03m# fit method of arity 1 (unsupervised transformation)\u001b[39;00m\n\u001b[1;32m-> 1061\u001b[0m     \u001b[38;5;28;01mreturn\u001b[39;00m \u001b[38;5;28mself\u001b[39m\u001b[38;5;241m.\u001b[39mfit(X, \u001b[38;5;241m*\u001b[39m\u001b[38;5;241m*\u001b[39mfit_params)\u001b[38;5;241m.\u001b[39mtransform(X)\n\u001b[0;32m   1062\u001b[0m \u001b[38;5;28;01melse\u001b[39;00m:\n\u001b[0;32m   1063\u001b[0m     \u001b[38;5;66;03m# fit method of arity 2 (supervised transformation)\u001b[39;00m\n\u001b[0;32m   1064\u001b[0m     \u001b[38;5;28;01mreturn\u001b[39;00m \u001b[38;5;28mself\u001b[39m\u001b[38;5;241m.\u001b[39mfit(X, y, \u001b[38;5;241m*\u001b[39m\u001b[38;5;241m*\u001b[39mfit_params)\u001b[38;5;241m.\u001b[39mtransform(X)\n",
      "File \u001b[1;32m~\\AppData\\Roaming\\Python\\Python310\\site-packages\\sklearn\\base.py:1351\u001b[0m, in \u001b[0;36m_fit_context.<locals>.decorator.<locals>.wrapper\u001b[1;34m(estimator, *args, **kwargs)\u001b[0m\n\u001b[0;32m   1344\u001b[0m     estimator\u001b[38;5;241m.\u001b[39m_validate_params()\n\u001b[0;32m   1346\u001b[0m \u001b[38;5;28;01mwith\u001b[39;00m config_context(\n\u001b[0;32m   1347\u001b[0m     skip_parameter_validation\u001b[38;5;241m=\u001b[39m(\n\u001b[0;32m   1348\u001b[0m         prefer_skip_nested_validation \u001b[38;5;129;01mor\u001b[39;00m global_skip_validation\n\u001b[0;32m   1349\u001b[0m     )\n\u001b[0;32m   1350\u001b[0m ):\n\u001b[1;32m-> 1351\u001b[0m     \u001b[38;5;28;01mreturn\u001b[39;00m fit_method(estimator, \u001b[38;5;241m*\u001b[39margs, \u001b[38;5;241m*\u001b[39m\u001b[38;5;241m*\u001b[39mkwargs)\n",
      "File \u001b[1;32m~\\AppData\\Roaming\\Python\\Python310\\site-packages\\sklearn\\random_projection.py:400\u001b[0m, in \u001b[0;36mBaseRandomProjection.fit\u001b[1;34m(self, X, y)\u001b[0m\n\u001b[0;32m    394\u001b[0m         \u001b[38;5;28;01mraise\u001b[39;00m \u001b[38;5;167;01mValueError\u001b[39;00m(\n\u001b[0;32m    395\u001b[0m             \u001b[38;5;124m\"\u001b[39m\u001b[38;5;124meps=\u001b[39m\u001b[38;5;132;01m%f\u001b[39;00m\u001b[38;5;124m and n_samples=\u001b[39m\u001b[38;5;132;01m%d\u001b[39;00m\u001b[38;5;124m lead to a target dimension of \u001b[39m\u001b[38;5;124m\"\u001b[39m\n\u001b[0;32m    396\u001b[0m             \u001b[38;5;124m\"\u001b[39m\u001b[38;5;132;01m%d\u001b[39;00m\u001b[38;5;124m which is invalid\u001b[39m\u001b[38;5;124m\"\u001b[39m \u001b[38;5;241m%\u001b[39m (\u001b[38;5;28mself\u001b[39m\u001b[38;5;241m.\u001b[39meps, n_samples, \u001b[38;5;28mself\u001b[39m\u001b[38;5;241m.\u001b[39mn_components_)\n\u001b[0;32m    397\u001b[0m         )\n\u001b[0;32m    399\u001b[0m     \u001b[38;5;28;01melif\u001b[39;00m \u001b[38;5;28mself\u001b[39m\u001b[38;5;241m.\u001b[39mn_components_ \u001b[38;5;241m>\u001b[39m n_features:\n\u001b[1;32m--> 400\u001b[0m         \u001b[38;5;28;01mraise\u001b[39;00m \u001b[38;5;167;01mValueError\u001b[39;00m(\n\u001b[0;32m    401\u001b[0m             \u001b[38;5;124m\"\u001b[39m\u001b[38;5;124meps=\u001b[39m\u001b[38;5;132;01m%f\u001b[39;00m\u001b[38;5;124m and n_samples=\u001b[39m\u001b[38;5;132;01m%d\u001b[39;00m\u001b[38;5;124m lead to a target dimension of \u001b[39m\u001b[38;5;124m\"\u001b[39m\n\u001b[0;32m    402\u001b[0m             \u001b[38;5;124m\"\u001b[39m\u001b[38;5;132;01m%d\u001b[39;00m\u001b[38;5;124m which is larger than the original space with \u001b[39m\u001b[38;5;124m\"\u001b[39m\n\u001b[0;32m    403\u001b[0m             \u001b[38;5;124m\"\u001b[39m\u001b[38;5;124mn_features=\u001b[39m\u001b[38;5;132;01m%d\u001b[39;00m\u001b[38;5;124m\"\u001b[39m\n\u001b[0;32m    404\u001b[0m             \u001b[38;5;241m%\u001b[39m (\u001b[38;5;28mself\u001b[39m\u001b[38;5;241m.\u001b[39meps, n_samples, \u001b[38;5;28mself\u001b[39m\u001b[38;5;241m.\u001b[39mn_components_, n_features)\n\u001b[0;32m    405\u001b[0m         )\n\u001b[0;32m    406\u001b[0m \u001b[38;5;28;01melse\u001b[39;00m:\n\u001b[0;32m    407\u001b[0m     \u001b[38;5;28;01mif\u001b[39;00m \u001b[38;5;28mself\u001b[39m\u001b[38;5;241m.\u001b[39mn_components \u001b[38;5;241m>\u001b[39m n_features:\n",
      "\u001b[1;31mValueError\u001b[0m: eps=0.100000 and n_samples=46873 lead to a target dimension of 9218 which is larger than the original space with n_features=40"
     ]
    }
   ],
   "source": [
    "insurance_proj_gauss = SparseRandomProjection(random_state=42,eps=0.1)\n",
    "X_insurnace_transformed = insurance_proj_gauss.fit_transform(X_train_insurance)\n"
   ]
  },
  {
   "cell_type": "code",
   "execution_count": null,
   "id": "584f7d99-10d3-4481-ae7b-35672cbe57e6",
   "metadata": {},
   "outputs": [],
   "source": []
  }
 ],
 "metadata": {
  "kernelspec": {
   "display_name": "Python 3 (ipykernel)",
   "language": "python",
   "name": "python3"
  },
  "language_info": {
   "codemirror_mode": {
    "name": "ipython",
    "version": 3
   },
   "file_extension": ".py",
   "mimetype": "text/x-python",
   "name": "python",
   "nbconvert_exporter": "python",
   "pygments_lexer": "ipython3",
   "version": "3.10.9"
  }
 },
 "nbformat": 4,
 "nbformat_minor": 5
}
