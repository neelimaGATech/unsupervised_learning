


%matplotlib inline
import warnings
warnings.filterwarnings('ignore')
import matplotlib.pyplot as plt
from matplotlib.patches import PathPatch as Patch
import numpy as np
import pandas as pd
import time
import os
import seaborn as sns
from scipy import stats
from sklearn.preprocessing import StandardScaler 

sns.set()


outdir = './data/processed_data'
if not os.path.exists(outdir):
    os.mkdir(outdir)


diabetes_df = pd.read_csv('data/diabetes_012_health_indicators.csv')


diabetes_df.head()


diabetes_df.info()


diabetes_df.isnull().sum()


diabetes_df.duplicated().sum()


#Remove duplicated rows 
diabetes_df.drop_duplicates(inplace = True)


diabetes_df['Diabetes_012'].value_counts()


# drop Diabetes_012 column from dataset to get input matrix X
X = diabetes_df.drop('Diabetes_012', axis=1)
# Extract Diabetes_012 column to generate output vector y
y = diabetes_df['Diabetes_012']


output_filename = os.path.join(outdir,f"cleanded_diabetes_data.csv" )
diabetes_df.to_csv(output_filename,index=False)


# Visualize the distribution of each variable.
#plt.figure(figsize=(20,20))
for i, j in enumerate(X.describe().columns):
    #plt.subplot(11,2, i+1)
    plt.figure()
    if (j == 'BMI'):
        sns.distplot(x=X[j])
    else:
        sns.catplot(x=j, kind="count", data=X)
    plt.xlabel(j)
    plt.title('{} Distribution'.format(j))
    # plt.subplots_adjust(wspace=.2, hspace=.5)
    #plt.tight_layout()
    plt.show()


X.describe().T.style.background_gradient(cmap='Reds')


for column in diabetes_df.columns:
    print(f"{column}:")
    print(f"{diabetes_df[column].unique()}")


figure = plt.figure(figsize = (22,8))
count =0
for column in diabetes_df.columns:
    feature_name = column
    print(column)
    plt.subplot(5, 6, count+1)
    #if diabetes_df[feature_name].dtype == 'int': 
     #   sns.distplot(diabetes_df[feature_name], fit=stats.norm, color = 'red')        
    #else: 
    #sns.distplot(diabetes_df[feature_name], fit=stats.norm)  
    sns.barplot( x=diabetes_df[feature_name], y=diabetes_df['Diabetes_012'])
    count += 1
figure.tight_layout(h_pad=1.0, w_pad=0.5)
plt.suptitle('Bar charts', y=1.02)
plt.show()


fig3 = plt.figure(figsize = (15,8))

ax1 = fig3.add_subplot(2,3,1)
sns.kdeplot(diabetes_df[diabetes_df["Diabetes_012"]==1]["BMI"], shade=True, color="blue", label="Pre Diabetic", ax=ax1)
sns.kdeplot(diabetes_df[diabetes_df["Diabetes_012"]==0]["BMI"], shade=True, color="green", label="No Diabetes", ax=ax1)
sns.kdeplot(diabetes_df[diabetes_df["Diabetes_012"]==2]["BMI"], shade=True, color="red", label="Diabetic", ax=ax1)
ax1.set_xlabel("BMI")
ax1.set_ylabel("Density")

ax2 = fig3.add_subplot(2,3,2)
sns.kdeplot(diabetes_df[diabetes_df["Diabetes_012"]==1]["MentHlth"], shade=True, color="blue", label="Pre Diabetic", ax=ax2)
sns.kdeplot(diabetes_df[diabetes_df["Diabetes_012"]==0]["MentHlth"], shade=True, color="green", label="No Diabetes", ax=ax2)
sns.kdeplot(diabetes_df[diabetes_df["Diabetes_012"]==2]["MentHlth"], shade=True, color="red", label="Diabetic", ax=ax2)
ax2.set_xlabel("Mental Health")
ax2.set_ylabel("Density")

ax3 = fig3.add_subplot(2,3,3)
sns.kdeplot(diabetes_df[diabetes_df["Diabetes_012"]==1]["PhysHlth"], shade=True, color="blue", label="Pre Diabetic", ax=ax3)
sns.kdeplot(diabetes_df[diabetes_df["Diabetes_012"]==0]["PhysHlth"], shade=True, color="green", label="No Diabetes", ax=ax3)
sns.kdeplot(diabetes_df[diabetes_df["Diabetes_012"]==2]["PhysHlth"], shade=True, color="red", label="Diabetic", ax=ax3)
ax3.set_xlabel("Physical Health")
ax3.set_ylabel("Density")

fig3.suptitle("Density Plots for Continous variables");
plt.legend()
plt.show()


fig4, ax = plt.subplots()

sns.barplot( x=diabetes_df['Age'], y=diabetes_df['Diabetes_012'])

#plt.close(2) # catplot creates an extra figure we don't need

ax.set_xlabel("Age")



fig4.suptitle("Diabetes status vs. Age");


fig5 = plt.figure(figsize = (15,5))

sns.barplot( x=diabetes_df['MentHlth'], y=diabetes_df['Diabetes_012'])

#plt.close(2) # catplot creates an extra figure we don't need

ax.set_xlabel("Mental Health")



fig5.suptitle("Diabetes status vs. Mental Health");


fig5 = plt.figure(figsize = (15,5))

sns.barplot( x=diabetes_df['PhysHlth'], y=diabetes_df['Diabetes_012'])

#plt.close(2) # catplot creates an extra figure we don't need

ax.set_xlabel("Physical Health")



fig5.suptitle("Diabetes status vs. Physical Health");


correlation_metrics=diabetes_df.corr().round(3)
fig = plt.figure(figsize=(20,20))
sns.heatmap(correlation_metrics,square=True, annot=True, vmax=1, vmin=-1, cmap='RdBu')
plt.title('Correlation Between Variables', size=14)
plt.show()


#list for cols to scale
#cols_to_scale = ['BMI','GenHlth','MentHlth','Education','Age','Income']

#create and fit scaler
#scaler = StandardScaler()
#scaler.fit(diabetes_df[cols_to_scale])

#scale selected data
#diabetes_df[cols_to_scale] = scaler.transform(diabetes_df[cols_to_scale])


#correlation_metrics=diabetes_df.corr().round(3)
#fig = plt.figure(figsize=(20,20))
#sns.heatmap(correlation_metrics,square=True, annot=True, vmax=1, vmin=-1, cmap='RdBu')
#plt.title('Correlation Between Variables', size=14)

#plt.show()


diabetes_df.head()


# Visualize the distribution of each variable.
#plt.figure(figsize=(20,20))
#for i, j in enumerate(diabetes_df.describe().columns):
    #plt.subplot(11,2, i+1)
 #   plt.figure()
 #   if (j == 'BMI'):
 #       sns.distplot(x=diabetes_df[j])
 #   else:
 #       sns.catplot(x=j, kind="count", data=diabetes_df)
 #   plt.xlabel(j)
 #   plt.title('{} Distribution'.format(j))
 #   # plt.subplots_adjust(wspace=.2, hspace=.5)
 #   #plt.tight_layout()
 #   plt.show()


from sklearn.model_selection import train_test_split

X = diabetes_df.drop(['Diabetes_012'], axis=1)
y = diabetes_df['Diabetes_012']

X_train, X_test, y_train_true, y_test_true = train_test_split(X, y, test_size=0.2)

X_train.to_csv( os.path.join(outdir,f"diabetes_data_train.csv" ),index=False)
X_test.to_csv( os.path.join(outdir,f"diabetes_data_test.csv" ),index=False)
y_train_true.to_csv( os.path.join(outdir,f"diabetes_data_train_labels.csv" ),index=False)
y_test_true.to_csv( os.path.join(outdir,f"diabetes_data_test_labels.csv" ),index=False)


sns.relplot(data=diabetes_df, x="Age",y='HighBP',hue='Diabetes_012')


sns.relplot(data=diabetes_df, x="GenHlth",y='DiffWalk',hue='Diabetes_012')



sns.histplot(binwidth=0.5, x="Education", hue="Diabetes_012", data=diabetes_df, stat="count", multiple="stack")


sns.histplot(binwidth=0.5, x="BMI", hue="Diabetes_012", data=diabetes_df, stat="count", multiple="stack")


sns.boxplot(diabetes_df, x='Education', y='Income',hue='Diabetes_012')



sns.boxplot(diabetes_df, y='BMI',x='Diabetes_012')


sns.pairplot(diabetes_df, vars=["BMI","GenHlth"], hue="Diabetes_012")


sns.pairplot(diabetes_df, vars=["PhysHlth","GenHlth"], hue="Diabetes_012")


sns.pairplot(diabetes_df, vars=["DiffWalk","GenHlth"], hue="Diabetes_012")


sns.pairplot(diabetes_df, vars=["Education","Income"], hue="Diabetes_012")


sns.pairplot(diabetes_df, vars=["Age","HighBP"], hue="Diabetes_012")



