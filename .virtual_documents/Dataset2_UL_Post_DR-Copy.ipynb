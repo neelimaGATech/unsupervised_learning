%matplotlib inline
import warnings
warnings.filterwarnings('ignore')
import matplotlib.pyplot as plt
from matplotlib.patches import PathPatch as Patch
import numpy as np
import pandas as pd
import time
import os
import seaborn as sns
from scipy import stats
import sklearn.preprocessing as skp
import sklearn.cluster as skc
from sklearn.mixture import GaussianMixture
from sklearn.cluster import KMeans
from sklearn.mixture import BayesianGaussianMixture
from sklearn.model_selection import train_test_split
from scipy import linalg
import itertools
from joblib import dump, load


outdir = './data/processed_data'





gmm_filename = os.path.join(outdir, f"gmm_insurance_trained.joblib" ) 


gmm_insurance_loaded = load(gmm_filename)


gmm_insurance_loaded.converged_





 # read data from the file and plot 
filename = os.path.join(outdir, f"reduced_insurance_pca.csv" )    
X_reduced_pca = pd.read_csv(filename)


X_reduced_pca.shape


X_reduced_pca.head()


bic=[]
aic =[]
k_range = range(2,10)
for i in k_range:
    gmm_temp = GaussianMixture(n_components=i, n_init=10)
    gmm_temp.fit(X_reduced_pca)
    bic.append(gmm_temp.bic(X_reduced_pca))
    aic.append(gmm_temp.aic(X_reduced_pca))

fig1 = plt.figure(figsize = (5,4))
plt.plot(k_range, bic, marker='o', label = "BIC Curve")
plt.plot(k_range, aic, marker='x', label = "AIC Curve")
plt.xlabel("Number of Clusters ")
plt.legend()
plt.show()




gmm = GaussianMixture(n_components=7, n_init=10)


gmm.fit(X_reduced_pca)


predictions = gmm.predict_proba(X_reduced_pca)


labels = gmm.predict(X_reduced_pca)


#X_reduced_pca['pred_prob'] = predictions
X_reduced_pca['labels'] = labels


gmm.converged_


correlation_metrics=X_reduced_pca.corr().round(3)
fig = plt.figure(figsize=(20,20))
sns.heatmap(correlation_metrics,square=True, annot=True, vmax=1, vmin=-1, cmap='RdBu')
plt.title('Correlation Between Variables', size=14)
plt.show()


sns.histplot(X_reduced_pca, x='0',  hue='labels')
#sns(X_reduced_pca, vars=["0","labels"])





 # read data from the file and plot 
filename = os.path.join(outdir, f"reduced_insurance_ica.csv" )    
X_reduced_ica = pd.read_csv(filename)


X_reduced_ica.shape


X_reduced_ica.head()


bic=[]
aic =[]
k_range = range(2,10)
for i in k_range:
    gmm_temp = GaussianMixture(n_components=i, n_init=10)
    gmm_temp.fit(X_reduced_ica)
    bic.append(gmm_temp.bic(X_reduced_ica))
    aic.append(gmm_temp.aic(X_reduced_ica))

fig1 = plt.figure(figsize = (5,4))
plt.plot(k_range, bic, marker='o', label = "BIC Curve")
plt.plot(k_range, aic, marker='x', label = "AIC Curve")
plt.xlabel("Number of Clusters ")
plt.legend()
plt.show()



gmm = GaussianMixture(n_components=8, n_init=10)
gmm.fit(X_reduced_ica)

labels = gmm.predict(X_reduced_ica)

X_reduced_ica['labels'] = labels
gmm.converged_



correlation_metrics=X_reduced_ica.corr().round(3)
fig = plt.figure(figsize=(20,20))
sns.heatmap(correlation_metrics,square=True, annot=True, vmax=1, vmin=-1, cmap='RdBu')
plt.title('Correlation Between Variables', size=14)
plt.show()




sns.pairplot(X_reduced_ica, vars=["0","1"], hue="labels")
sns.pairplot(X_reduced_ica, vars=["1","2"], hue="labels")
sns.pairplot(X_reduced_ica, vars=["2","3"], hue="labels")


sns.pairplot(X_reduced_ica, vars=["3","4"], hue="labels")
sns.pairplot(X_reduced_ica, vars=["4","5"], hue="labels")
sns.pairplot(X_reduced_ica, vars=["5","6"], hue="labels")
sns.pairplot(X_reduced_ica, vars=["6","7"], hue="labels")
sns.pairplot(X_reduced_ica, vars=["7","8"], hue="labels")
sns.pairplot(X_reduced_ica, vars=["8","9"], hue="labels")
sns.pairplot(X_reduced_ica, vars=["8","9"], hue="labels")
sns.pairplot(X_reduced_ica, vars=["9","10"], hue="labels")
sns.pairplot(X_reduced_ica, vars=["10","11"], hue="labels")
sns.pairplot(X_reduced_ica, vars=["0","11"], hue="labels")


gmm_filename_ica = os.path.join(outdir, f"gmm_insurance_trained_ica.joblib" ) 
dump(gmm, gmm_filename_ica)





 # read data from the file and plot 
filename = os.path.join(outdir, f"reduced_insurance_lle.csv" )    
X_reduced_lle = pd.read_csv(filename)

X_reduced_lle.shape



X_reduced_lle.head()


gmm = GaussianMixture(n_components=7, n_init=10)
gmm.fit(X_reduced_lle)

labels = gmm.predict(X_reduced_lle)

X_reduced_lle['labels'] = labels
gmm.converged_



correlation_metrics=X_reduced_lle.corr().round(3)
fig = plt.figure(figsize=(20,20))
sns.heatmap(correlation_metrics,square=True, annot=True, vmax=1, vmin=-1, cmap='RdBu')
plt.title('Correlation Between Variables', size=14)
plt.show()


sns.pairplot(X_reduced_lle, vars=["0","1"], hue="labels")
sns.pairplot(X_reduced_lle, vars=["1","2"], hue="labels")
sns.pairplot(X_reduced_lle, vars=["2","3"], hue="labels")
sns.pairplot(X_reduced_lle, vars=["3","4"], hue="labels")
sns.pairplot(X_reduced_lle, vars=["4","5"], hue="labels")
sns.pairplot(X_reduced_lle, vars=["5","6"], hue="labels")
sns.pairplot(X_reduced_lle, vars=["6","7"], hue="labels")
sns.pairplot(X_reduced_lle, vars=["7","8"], hue="labels")
sns.pairplot(X_reduced_lle, vars=["8","9"], hue="labels")
sns.pairplot(X_reduced_lle, vars=["0","9"], hue="labels")



gmm_filename_lle = os.path.join(outdir, f"gmm_insurance_trained_lle.joblib" ) 
dump(gmm, gmm_filename_lle)





from kmodes.kmodes import KModes





 # read data from the file and plot 
filename = os.path.join(outdir, f"reduced_insurance_pca.csv" )    
X_ins_reduced_pca = pd.read_csv(filename)


X_ins_reduced_pca.shape


X_ins_reduced_pca.head()





kmode = KModes(n_clusters=5, init = "random", n_init = 5, verbose=1)
clusters = kmode.fit_predict(X_ins_reduced_pca)


clusters


kmode


cluster_centers_indices = kmode.cluster_centroids_ 
n_clusters = 5




from itertools import cycle
colors = cycle('bgrcmykbgrcmykbgrcmykbgrcmyk')

for k, col in zip(range(n_clusters), colors):
    class_members = clusters 
    cluster_center = cluster_centers_indices[k]
    plt.plot(X_train.iloc[class_members, 0], X_train.iloc[class_members, 1], col + '.')
    plt.plot(cluster_center[0], cluster_center[1], 'o', markerfacecolor=col,
             markeredgecolor='k', markersize=14)
    for x in X_train.iloc[class_members]:
        plt.plot([cluster_center[0], x[0]], [cluster_center[1], x[1]], col)


X_ins_reduced_pca['kmode_labels'] = clusters


correlation_metrics=X_ins_reduced_pca.corr().round(3)
fig = plt.figure(figsize=(20,20))
sns.heatmap(correlation_metrics,square=True, annot=True, vmax=1, vmin=-1, cmap='RdBu')
plt.title('Correlation Between Variables', size=14)
plt.show()


sns.histplot(X_ins_reduced_pca, x='0',  hue='kmode_labels')


kmodes_filename_pca = os.path.join(outdir, f"kmodes_insurance_trained_pca.joblib" ) 
dump(kmode, kmodes_filename_pca)





# read data from the file and plot 
filename = os.path.join(outdir, f"reduced_insurance_ica.csv" )    
X_ins_reduced_ica = pd.read_csv(filename)



kmode = KModes(n_clusters=5, init = "random", n_init = 5, verbose=1)
clusters = kmode.fit_predict(X_ins_reduced_ica)

X_ins_reduced_ica['kmode_labels'] = clusters
clusters.shape


correlation_metrics=X_ins_reduced_ica.corr().round(3)
fig = plt.figure(figsize=(20,20))
sns.heatmap(correlation_metrics,square=True, annot=True, vmax=1, vmin=-1, cmap='RdBu')
plt.title('Correlation Between Variables', size=14)
plt.show()


sns.pairplot(X_ins_reduced_ica, hue="kmode_labels" )


kmodes_filename_ica = os.path.join(outdir, f"kmodes_insurance_trained_ica.joblib" ) 
dump(kmode, kmodes_filename_ica)





### Kmodes on lle reduced dataset 

# read data from the file and plot 
filename = os.path.join(outdir, f"reduced_insurance_lle.csv" )    
X_ins_reduced_lle = pd.read_csv(filename)



kmode = KModes(n_clusters=5, init = "random", n_init = 5, verbose=1)
clusters = kmode.fit_predict(X_ins_reduced_lle)
X_ins_reduced_lle['kmode_labels'] = clusters




correlation_metrics=X_ins_reduced_lle.corr().round(3)
fig = plt.figure(figsize=(20,20))
sns.heatmap(correlation_metrics,square=True, annot=True, vmax=1, vmin=-1, cmap='RdBu')
plt.title('Correlation Between Variables', size=14)
plt.show()


sns.pairplot(X_ins_reduced_lle, hue="kmode_labels" )


kmodes_filename_lle = os.path.join(outdir, f"kmodes_insurance_trained_lle.joblib" ) 
dump(kmode, kmodes_filename_lle)



