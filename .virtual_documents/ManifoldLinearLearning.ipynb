%matplotlib inline
import warnings
warnings.filterwarnings('ignore')
import matplotlib.pyplot as plt
from matplotlib.patches import PathPatch as Patch
import numpy as np
import pandas as pd
import time
import os

from sklearn.manifold import LocallyLinearEmbedding 
from sklearn.manifold import MDS
from sklearn.decomposition import PCA 


outdir = './data/processed_data'


 # read data from the file and plot 
filename = os.path.join(outdir, f"diabetes_data_train.csv" )    
X_diabetes_train = pd.read_csv(filename)


X_diabetes_train.shape





#embedding = MDS(n_components=2, normalized_stress='auto')
#X_transformed = embedding.fit_transform(X_diabetes_train[:100])
#X_transformed.shape


from sklearn.preprocessing import StandardScaler
scaler = StandardScaler()
X_diabetes_Scaled = scaler.fit_transform(X_diabetes_train)


%%time
reconstruction_errs = []
components = [2,4,6,8,10]

for n_component in components:
    temp_lle = LocallyLinearEmbedding(n_components=n_component, n_neighbors=5)
    X_diabetese_fitted = temp_lle.fit(X_diabetes_Scaled[:10000]) 
    reconstruction_errs.append(X_diabetese_fitted.reconstruction_error_)




plt.plot( reconstruction_errs,components)

plt.title('Reconstruction errors')
plt.xlabel('No of Components')
plt.ylabel('Reconstriction Errors')
plt.show()





# Fit the model with LLE 
%%time
diabetese_lle = LocallyLinearEmbedding(n_components=10, n_neighbors=10, eigen_solver='dense') 
X_diabetes_lle = diabetese_lle.fit_transform(X_diabetes_Scaled) 
X_diabetes_lle.shape





diabetes_df_reduced = pd.DataFrame(X_diabetes_lle)


outdir = './data/processed_data'
if not os.path.exists(outdir):
    os.mkdir(outdir)


diabetes_df_reduced.to_csv(os.path.join(outdir,f"reduced_diabetes_lle.csv" ),index=False)





# read data from the file and plot 
filename = os.path.join(outdir, f"insurance_data_train.csv" )    
insurance_df = pd.read_csv(filename)


%%time
reconstruction_ins_errs = []
components = [2,4,6,8,10]

for n_component in components:
    temp_lle = LocallyLinearEmbedding(n_components=n_component, n_neighbors=10,eigen_solver='dense')
    X_insurance_fitted = temp_lle.fit(insurance_df[:10000]) 
    reconstruction_ins_errs.append(X_insurance_fitted.reconstruction_error_)


plt.plot( reconstruction_ins_errs,components)

plt.title('Reconstruction errors')
plt.xlabel('No of Components')
plt.ylabel('Reconstriction Errors')
plt.show()


# Fit the model with LLE 
%%time
insurance_lle = LocallyLinearEmbedding(n_components=10, n_neighbors=10, eigen_solver='dense') 
X_insurance_lle = insurance_lle.fit_transform(insurance_df) 
X_insurance_lle.shape


X_insurance_lle.head()


insurance_df_reduced = pd.DataFrame(X_insurance_lle)


insurance_df_reduced.to_csv(os.path.join(outdir,f"reduced_insurance_lle.csv" ),index=False)



